{
  "nbformat": 4,
  "nbformat_minor": 0,
  "metadata": {
    "colab": {
      "name": "Tarea2_EstadisticaParaCienciaDeLosDatos.ipynb",
      "provenance": [],
      "collapsed_sections": [],
      "toc_visible": true,
      "include_colab_link": true
    },
    "kernelspec": {
      "name": "python3",
      "display_name": "Python 3"
    }
  },
  "cells": [
    {
      "cell_type": "markdown",
      "metadata": {
        "id": "view-in-github",
        "colab_type": "text"
      },
      "source": [
        "<a href=\"https://colab.research.google.com/github/sebaszx/Tarea2CienciasDeLosDatosModulo3/blob/main/Tarea2_EstadisticaParaCienciaDeLosDatos.ipynb\" target=\"_parent\"><img src=\"https://colab.research.google.com/assets/colab-badge.svg\" alt=\"Open In Colab\"/></a>"
      ]
    },
    {
      "cell_type": "markdown",
      "metadata": {
        "id": "jdtaAwa8XzNA"
      },
      "source": [
        "# Estadística para Ciencia de los Datos\n",
        "# Tarea #2\n",
        "En esta asignación se busca que los estudiantes exploren un conjunto de datos y determinen qué distribución modela más efectivamente cada columna. En particular, se sugiere que los estudiantes utilicen el conjunto de datos provisto, pero queda abierto a la decisión de los estudiantes usar otros sets de datos.\n",
        "\n",
        "Deberán tomar en cuenta todas las distribuciones vistas en clase pero no deben limitarse a ellas. Se espera que haya un uso significativo de bibliotecas como `matplotlib` para mostrar visualmente la comparación entre los datos y las distribuciones propuestas.\n",
        "\n",
        "Los estudiantes deberán entregar a más tardar el día 17 de julio a las 10:00PM un notebook de colab con la solución a los siguientes ejercicios:\n",
        "\n",
        "\n",
        "\n",
        "\n",
        " \n",
        "\n",
        "\n",
        "\n"
      ]
    },
    {
      "cell_type": "markdown",
      "source": [
        "Estudiante: Sebastián Porras"
      ],
      "metadata": {
        "id": "9xhSjvpIh1v0"
      }
    },
    {
      "cell_type": "code",
      "source": [
        "import pandas as pd\n",
        "import matplotlib.pyplot as plt\n",
        "import seaborn as sns\n",
        "from scipy.stats import expon,norm,geom,poisson,binom,gamma\n",
        "import numpy as np\n",
        "import torch\n",
        "from torch.distributions import Exponential\n",
        "from torch.distributions import Geometric\n",
        "from torch.distributions import Normal\n",
        "from torch.distributions import Gamma\n",
        "torch.set_printoptions(precision=2,sci_mode=False)\n",
        "import math\n",
        "from scipy.stats import ksone"
      ],
      "metadata": {
        "id": "mD57UcpkNJjX"
      },
      "execution_count": 116,
      "outputs": []
    },
    {
      "cell_type": "code",
      "source": [
        "df= pd.read_csv(\"https://raw.githubusercontent.com/sebaszx/Tarea2CienciasDeLosDatosModulo3/main/datasetTarea2.csv\")"
      ],
      "metadata": {
        "id": "950Y5V-3NVIS"
      },
      "execution_count": 117,
      "outputs": []
    },
    {
      "cell_type": "code",
      "source": [
        "df.head()"
      ],
      "metadata": {
        "colab": {
          "base_uri": "https://localhost:8080/",
          "height": 206
        },
        "id": "vp3NffKANiNW",
        "outputId": "33b6885a-45c5-4c5c-fb4f-e9edb302aac2"
      },
      "execution_count": 118,
      "outputs": [
        {
          "output_type": "execute_result",
          "data": {
            "text/plain": [
              "   carat      cut color clarity  depth  table  price     x     y     z  \\\n",
              "0   0.32  Premium     J     VS2   61.9   58.0    504  4.38  4.35  2.70   \n",
              "1   1.50     Good     F     SI2   62.9   59.0   7727  7.19  7.32  4.56   \n",
              "2   0.38    Ideal     H     VS1   61.7   55.0    955  4.65  4.70  2.89   \n",
              "3   0.53    Ideal     F    VVS1   62.1   53.2   2273  5.17  5.21  3.22   \n",
              "4   0.55    Ideal     D     VS2   60.6   56.0   2224  5.30  5.36  3.23   \n",
              "\n",
              "   unknownCol  \n",
              "0         5.1  \n",
              "1         4.9  \n",
              "2         4.7  \n",
              "3         4.6  \n",
              "4         5.0  "
            ],
            "text/html": [
              "\n",
              "  <div id=\"df-6b145548-6618-4ce3-ba8c-55450f9887ce\">\n",
              "    <div class=\"colab-df-container\">\n",
              "      <div>\n",
              "<style scoped>\n",
              "    .dataframe tbody tr th:only-of-type {\n",
              "        vertical-align: middle;\n",
              "    }\n",
              "\n",
              "    .dataframe tbody tr th {\n",
              "        vertical-align: top;\n",
              "    }\n",
              "\n",
              "    .dataframe thead th {\n",
              "        text-align: right;\n",
              "    }\n",
              "</style>\n",
              "<table border=\"1\" class=\"dataframe\">\n",
              "  <thead>\n",
              "    <tr style=\"text-align: right;\">\n",
              "      <th></th>\n",
              "      <th>carat</th>\n",
              "      <th>cut</th>\n",
              "      <th>color</th>\n",
              "      <th>clarity</th>\n",
              "      <th>depth</th>\n",
              "      <th>table</th>\n",
              "      <th>price</th>\n",
              "      <th>x</th>\n",
              "      <th>y</th>\n",
              "      <th>z</th>\n",
              "      <th>unknownCol</th>\n",
              "    </tr>\n",
              "  </thead>\n",
              "  <tbody>\n",
              "    <tr>\n",
              "      <th>0</th>\n",
              "      <td>0.32</td>\n",
              "      <td>Premium</td>\n",
              "      <td>J</td>\n",
              "      <td>VS2</td>\n",
              "      <td>61.9</td>\n",
              "      <td>58.0</td>\n",
              "      <td>504</td>\n",
              "      <td>4.38</td>\n",
              "      <td>4.35</td>\n",
              "      <td>2.70</td>\n",
              "      <td>5.1</td>\n",
              "    </tr>\n",
              "    <tr>\n",
              "      <th>1</th>\n",
              "      <td>1.50</td>\n",
              "      <td>Good</td>\n",
              "      <td>F</td>\n",
              "      <td>SI2</td>\n",
              "      <td>62.9</td>\n",
              "      <td>59.0</td>\n",
              "      <td>7727</td>\n",
              "      <td>7.19</td>\n",
              "      <td>7.32</td>\n",
              "      <td>4.56</td>\n",
              "      <td>4.9</td>\n",
              "    </tr>\n",
              "    <tr>\n",
              "      <th>2</th>\n",
              "      <td>0.38</td>\n",
              "      <td>Ideal</td>\n",
              "      <td>H</td>\n",
              "      <td>VS1</td>\n",
              "      <td>61.7</td>\n",
              "      <td>55.0</td>\n",
              "      <td>955</td>\n",
              "      <td>4.65</td>\n",
              "      <td>4.70</td>\n",
              "      <td>2.89</td>\n",
              "      <td>4.7</td>\n",
              "    </tr>\n",
              "    <tr>\n",
              "      <th>3</th>\n",
              "      <td>0.53</td>\n",
              "      <td>Ideal</td>\n",
              "      <td>F</td>\n",
              "      <td>VVS1</td>\n",
              "      <td>62.1</td>\n",
              "      <td>53.2</td>\n",
              "      <td>2273</td>\n",
              "      <td>5.17</td>\n",
              "      <td>5.21</td>\n",
              "      <td>3.22</td>\n",
              "      <td>4.6</td>\n",
              "    </tr>\n",
              "    <tr>\n",
              "      <th>4</th>\n",
              "      <td>0.55</td>\n",
              "      <td>Ideal</td>\n",
              "      <td>D</td>\n",
              "      <td>VS2</td>\n",
              "      <td>60.6</td>\n",
              "      <td>56.0</td>\n",
              "      <td>2224</td>\n",
              "      <td>5.30</td>\n",
              "      <td>5.36</td>\n",
              "      <td>3.23</td>\n",
              "      <td>5.0</td>\n",
              "    </tr>\n",
              "  </tbody>\n",
              "</table>\n",
              "</div>\n",
              "      <button class=\"colab-df-convert\" onclick=\"convertToInteractive('df-6b145548-6618-4ce3-ba8c-55450f9887ce')\"\n",
              "              title=\"Convert this dataframe to an interactive table.\"\n",
              "              style=\"display:none;\">\n",
              "        \n",
              "  <svg xmlns=\"http://www.w3.org/2000/svg\" height=\"24px\"viewBox=\"0 0 24 24\"\n",
              "       width=\"24px\">\n",
              "    <path d=\"M0 0h24v24H0V0z\" fill=\"none\"/>\n",
              "    <path d=\"M18.56 5.44l.94 2.06.94-2.06 2.06-.94-2.06-.94-.94-2.06-.94 2.06-2.06.94zm-11 1L8.5 8.5l.94-2.06 2.06-.94-2.06-.94L8.5 2.5l-.94 2.06-2.06.94zm10 10l.94 2.06.94-2.06 2.06-.94-2.06-.94-.94-2.06-.94 2.06-2.06.94z\"/><path d=\"M17.41 7.96l-1.37-1.37c-.4-.4-.92-.59-1.43-.59-.52 0-1.04.2-1.43.59L10.3 9.45l-7.72 7.72c-.78.78-.78 2.05 0 2.83L4 21.41c.39.39.9.59 1.41.59.51 0 1.02-.2 1.41-.59l7.78-7.78 2.81-2.81c.8-.78.8-2.07 0-2.86zM5.41 20L4 18.59l7.72-7.72 1.47 1.35L5.41 20z\"/>\n",
              "  </svg>\n",
              "      </button>\n",
              "      \n",
              "  <style>\n",
              "    .colab-df-container {\n",
              "      display:flex;\n",
              "      flex-wrap:wrap;\n",
              "      gap: 12px;\n",
              "    }\n",
              "\n",
              "    .colab-df-convert {\n",
              "      background-color: #E8F0FE;\n",
              "      border: none;\n",
              "      border-radius: 50%;\n",
              "      cursor: pointer;\n",
              "      display: none;\n",
              "      fill: #1967D2;\n",
              "      height: 32px;\n",
              "      padding: 0 0 0 0;\n",
              "      width: 32px;\n",
              "    }\n",
              "\n",
              "    .colab-df-convert:hover {\n",
              "      background-color: #E2EBFA;\n",
              "      box-shadow: 0px 1px 2px rgba(60, 64, 67, 0.3), 0px 1px 3px 1px rgba(60, 64, 67, 0.15);\n",
              "      fill: #174EA6;\n",
              "    }\n",
              "\n",
              "    [theme=dark] .colab-df-convert {\n",
              "      background-color: #3B4455;\n",
              "      fill: #D2E3FC;\n",
              "    }\n",
              "\n",
              "    [theme=dark] .colab-df-convert:hover {\n",
              "      background-color: #434B5C;\n",
              "      box-shadow: 0px 1px 3px 1px rgba(0, 0, 0, 0.15);\n",
              "      filter: drop-shadow(0px 1px 2px rgba(0, 0, 0, 0.3));\n",
              "      fill: #FFFFFF;\n",
              "    }\n",
              "  </style>\n",
              "\n",
              "      <script>\n",
              "        const buttonEl =\n",
              "          document.querySelector('#df-6b145548-6618-4ce3-ba8c-55450f9887ce button.colab-df-convert');\n",
              "        buttonEl.style.display =\n",
              "          google.colab.kernel.accessAllowed ? 'block' : 'none';\n",
              "\n",
              "        async function convertToInteractive(key) {\n",
              "          const element = document.querySelector('#df-6b145548-6618-4ce3-ba8c-55450f9887ce');\n",
              "          const dataTable =\n",
              "            await google.colab.kernel.invokeFunction('convertToInteractive',\n",
              "                                                     [key], {});\n",
              "          if (!dataTable) return;\n",
              "\n",
              "          const docLinkHtml = 'Like what you see? Visit the ' +\n",
              "            '<a target=\"_blank\" href=https://colab.research.google.com/notebooks/data_table.ipynb>data table notebook</a>'\n",
              "            + ' to learn more about interactive tables.';\n",
              "          element.innerHTML = '';\n",
              "          dataTable['output_type'] = 'display_data';\n",
              "          await google.colab.output.renderOutput(dataTable, element);\n",
              "          const docLink = document.createElement('div');\n",
              "          docLink.innerHTML = docLinkHtml;\n",
              "          element.appendChild(docLink);\n",
              "        }\n",
              "      </script>\n",
              "    </div>\n",
              "  </div>\n",
              "  "
            ]
          },
          "metadata": {},
          "execution_count": 118
        }
      ]
    },
    {
      "cell_type": "code",
      "source": [
        "df.isnull().sum(axis = 0)"
      ],
      "metadata": {
        "colab": {
          "base_uri": "https://localhost:8080/"
        },
        "id": "VtnWS6N-Pikv",
        "outputId": "d2811d2e-2fd8-4620-8d88-3bea960b6130"
      },
      "execution_count": 119,
      "outputs": [
        {
          "output_type": "execute_result",
          "data": {
            "text/plain": [
              "carat         0\n",
              "cut           0\n",
              "color         0\n",
              "clarity       0\n",
              "depth         0\n",
              "table         0\n",
              "price         0\n",
              "x             0\n",
              "y             0\n",
              "z             0\n",
              "unknownCol    0\n",
              "dtype: int64"
            ]
          },
          "metadata": {},
          "execution_count": 119
        }
      ]
    },
    {
      "cell_type": "code",
      "source": [
        "df.describe().T"
      ],
      "metadata": {
        "colab": {
          "base_uri": "https://localhost:8080/",
          "height": 300
        },
        "id": "wgJCW1QJNkaU",
        "outputId": "568ce779-81ae-4462-b667-36042a20bb12"
      },
      "execution_count": 120,
      "outputs": [
        {
          "output_type": "execute_result",
          "data": {
            "text/plain": [
              "            count         mean          std         min       25%      50%  \\\n",
              "carat       200.0     0.788450     0.492473    0.240000    0.4075     0.70   \n",
              "depth       200.0    61.788000     1.424959   56.900000   61.0000    61.80   \n",
              "table       200.0    57.298500     2.280978   53.000000   56.0000    57.00   \n",
              "price       200.0  3751.065000  3884.761126  394.000000  962.5000  2354.50   \n",
              "x           200.0     5.703450     1.122998    4.040000    4.7350     5.64   \n",
              "y           200.0     5.711200     1.117658    4.060000    4.7600     5.68   \n",
              "z           200.0     3.524900     0.693152    2.410000    2.8975     3.48   \n",
              "unknownCol  200.0     5.929425     0.857031    3.997159    5.2000     5.90   \n",
              "\n",
              "                    75%           max  \n",
              "carat          1.020000      2.530000  \n",
              "depth         62.600000     67.100000  \n",
              "table         58.250000     64.000000  \n",
              "price       4790.250000  17103.000000  \n",
              "x              6.465000      8.540000  \n",
              "y              6.455000      8.480000  \n",
              "z              4.010000      5.400000  \n",
              "unknownCol     6.512438      8.462215  "
            ],
            "text/html": [
              "\n",
              "  <div id=\"df-98f5b1c6-44f9-4a47-a431-670dde609f7a\">\n",
              "    <div class=\"colab-df-container\">\n",
              "      <div>\n",
              "<style scoped>\n",
              "    .dataframe tbody tr th:only-of-type {\n",
              "        vertical-align: middle;\n",
              "    }\n",
              "\n",
              "    .dataframe tbody tr th {\n",
              "        vertical-align: top;\n",
              "    }\n",
              "\n",
              "    .dataframe thead th {\n",
              "        text-align: right;\n",
              "    }\n",
              "</style>\n",
              "<table border=\"1\" class=\"dataframe\">\n",
              "  <thead>\n",
              "    <tr style=\"text-align: right;\">\n",
              "      <th></th>\n",
              "      <th>count</th>\n",
              "      <th>mean</th>\n",
              "      <th>std</th>\n",
              "      <th>min</th>\n",
              "      <th>25%</th>\n",
              "      <th>50%</th>\n",
              "      <th>75%</th>\n",
              "      <th>max</th>\n",
              "    </tr>\n",
              "  </thead>\n",
              "  <tbody>\n",
              "    <tr>\n",
              "      <th>carat</th>\n",
              "      <td>200.0</td>\n",
              "      <td>0.788450</td>\n",
              "      <td>0.492473</td>\n",
              "      <td>0.240000</td>\n",
              "      <td>0.4075</td>\n",
              "      <td>0.70</td>\n",
              "      <td>1.020000</td>\n",
              "      <td>2.530000</td>\n",
              "    </tr>\n",
              "    <tr>\n",
              "      <th>depth</th>\n",
              "      <td>200.0</td>\n",
              "      <td>61.788000</td>\n",
              "      <td>1.424959</td>\n",
              "      <td>56.900000</td>\n",
              "      <td>61.0000</td>\n",
              "      <td>61.80</td>\n",
              "      <td>62.600000</td>\n",
              "      <td>67.100000</td>\n",
              "    </tr>\n",
              "    <tr>\n",
              "      <th>table</th>\n",
              "      <td>200.0</td>\n",
              "      <td>57.298500</td>\n",
              "      <td>2.280978</td>\n",
              "      <td>53.000000</td>\n",
              "      <td>56.0000</td>\n",
              "      <td>57.00</td>\n",
              "      <td>58.250000</td>\n",
              "      <td>64.000000</td>\n",
              "    </tr>\n",
              "    <tr>\n",
              "      <th>price</th>\n",
              "      <td>200.0</td>\n",
              "      <td>3751.065000</td>\n",
              "      <td>3884.761126</td>\n",
              "      <td>394.000000</td>\n",
              "      <td>962.5000</td>\n",
              "      <td>2354.50</td>\n",
              "      <td>4790.250000</td>\n",
              "      <td>17103.000000</td>\n",
              "    </tr>\n",
              "    <tr>\n",
              "      <th>x</th>\n",
              "      <td>200.0</td>\n",
              "      <td>5.703450</td>\n",
              "      <td>1.122998</td>\n",
              "      <td>4.040000</td>\n",
              "      <td>4.7350</td>\n",
              "      <td>5.64</td>\n",
              "      <td>6.465000</td>\n",
              "      <td>8.540000</td>\n",
              "    </tr>\n",
              "    <tr>\n",
              "      <th>y</th>\n",
              "      <td>200.0</td>\n",
              "      <td>5.711200</td>\n",
              "      <td>1.117658</td>\n",
              "      <td>4.060000</td>\n",
              "      <td>4.7600</td>\n",
              "      <td>5.68</td>\n",
              "      <td>6.455000</td>\n",
              "      <td>8.480000</td>\n",
              "    </tr>\n",
              "    <tr>\n",
              "      <th>z</th>\n",
              "      <td>200.0</td>\n",
              "      <td>3.524900</td>\n",
              "      <td>0.693152</td>\n",
              "      <td>2.410000</td>\n",
              "      <td>2.8975</td>\n",
              "      <td>3.48</td>\n",
              "      <td>4.010000</td>\n",
              "      <td>5.400000</td>\n",
              "    </tr>\n",
              "    <tr>\n",
              "      <th>unknownCol</th>\n",
              "      <td>200.0</td>\n",
              "      <td>5.929425</td>\n",
              "      <td>0.857031</td>\n",
              "      <td>3.997159</td>\n",
              "      <td>5.2000</td>\n",
              "      <td>5.90</td>\n",
              "      <td>6.512438</td>\n",
              "      <td>8.462215</td>\n",
              "    </tr>\n",
              "  </tbody>\n",
              "</table>\n",
              "</div>\n",
              "      <button class=\"colab-df-convert\" onclick=\"convertToInteractive('df-98f5b1c6-44f9-4a47-a431-670dde609f7a')\"\n",
              "              title=\"Convert this dataframe to an interactive table.\"\n",
              "              style=\"display:none;\">\n",
              "        \n",
              "  <svg xmlns=\"http://www.w3.org/2000/svg\" height=\"24px\"viewBox=\"0 0 24 24\"\n",
              "       width=\"24px\">\n",
              "    <path d=\"M0 0h24v24H0V0z\" fill=\"none\"/>\n",
              "    <path d=\"M18.56 5.44l.94 2.06.94-2.06 2.06-.94-2.06-.94-.94-2.06-.94 2.06-2.06.94zm-11 1L8.5 8.5l.94-2.06 2.06-.94-2.06-.94L8.5 2.5l-.94 2.06-2.06.94zm10 10l.94 2.06.94-2.06 2.06-.94-2.06-.94-.94-2.06-.94 2.06-2.06.94z\"/><path d=\"M17.41 7.96l-1.37-1.37c-.4-.4-.92-.59-1.43-.59-.52 0-1.04.2-1.43.59L10.3 9.45l-7.72 7.72c-.78.78-.78 2.05 0 2.83L4 21.41c.39.39.9.59 1.41.59.51 0 1.02-.2 1.41-.59l7.78-7.78 2.81-2.81c.8-.78.8-2.07 0-2.86zM5.41 20L4 18.59l7.72-7.72 1.47 1.35L5.41 20z\"/>\n",
              "  </svg>\n",
              "      </button>\n",
              "      \n",
              "  <style>\n",
              "    .colab-df-container {\n",
              "      display:flex;\n",
              "      flex-wrap:wrap;\n",
              "      gap: 12px;\n",
              "    }\n",
              "\n",
              "    .colab-df-convert {\n",
              "      background-color: #E8F0FE;\n",
              "      border: none;\n",
              "      border-radius: 50%;\n",
              "      cursor: pointer;\n",
              "      display: none;\n",
              "      fill: #1967D2;\n",
              "      height: 32px;\n",
              "      padding: 0 0 0 0;\n",
              "      width: 32px;\n",
              "    }\n",
              "\n",
              "    .colab-df-convert:hover {\n",
              "      background-color: #E2EBFA;\n",
              "      box-shadow: 0px 1px 2px rgba(60, 64, 67, 0.3), 0px 1px 3px 1px rgba(60, 64, 67, 0.15);\n",
              "      fill: #174EA6;\n",
              "    }\n",
              "\n",
              "    [theme=dark] .colab-df-convert {\n",
              "      background-color: #3B4455;\n",
              "      fill: #D2E3FC;\n",
              "    }\n",
              "\n",
              "    [theme=dark] .colab-df-convert:hover {\n",
              "      background-color: #434B5C;\n",
              "      box-shadow: 0px 1px 3px 1px rgba(0, 0, 0, 0.15);\n",
              "      filter: drop-shadow(0px 1px 2px rgba(0, 0, 0, 0.3));\n",
              "      fill: #FFFFFF;\n",
              "    }\n",
              "  </style>\n",
              "\n",
              "      <script>\n",
              "        const buttonEl =\n",
              "          document.querySelector('#df-98f5b1c6-44f9-4a47-a431-670dde609f7a button.colab-df-convert');\n",
              "        buttonEl.style.display =\n",
              "          google.colab.kernel.accessAllowed ? 'block' : 'none';\n",
              "\n",
              "        async function convertToInteractive(key) {\n",
              "          const element = document.querySelector('#df-98f5b1c6-44f9-4a47-a431-670dde609f7a');\n",
              "          const dataTable =\n",
              "            await google.colab.kernel.invokeFunction('convertToInteractive',\n",
              "                                                     [key], {});\n",
              "          if (!dataTable) return;\n",
              "\n",
              "          const docLinkHtml = 'Like what you see? Visit the ' +\n",
              "            '<a target=\"_blank\" href=https://colab.research.google.com/notebooks/data_table.ipynb>data table notebook</a>'\n",
              "            + ' to learn more about interactive tables.';\n",
              "          element.innerHTML = '';\n",
              "          dataTable['output_type'] = 'display_data';\n",
              "          await google.colab.output.renderOutput(dataTable, element);\n",
              "          const docLink = document.createElement('div');\n",
              "          docLink.innerHTML = docLinkHtml;\n",
              "          element.appendChild(docLink);\n",
              "        }\n",
              "      </script>\n",
              "    </div>\n",
              "  </div>\n",
              "  "
            ]
          },
          "metadata": {},
          "execution_count": 120
        }
      ]
    },
    {
      "cell_type": "code",
      "source": [
        "# df=df[[\"carat\",\"depth\",\"price\",\"table\"]]\n",
        "\n",
        "# df = (df-df.min())/(df.max()-df.min())"
      ],
      "metadata": {
        "id": "qvJfuSFUfsZ7"
      },
      "execution_count": 121,
      "outputs": []
    },
    {
      "cell_type": "markdown",
      "source": [
        "#1.\n",
        " Elija alguna variable **cuantitativa** del set de datos y: \n",
        "  - Muestre el histograma calculado dinámicamente (e.g. con `matplotlib`) (2 puntos)\n",
        "  - Brinde al menos una propuesta de distribución candidata que modela esa columna, definiendo los parámetros de la distribución y una gráfica de la distribución paramétrica con `matplotlib` (10 puntos)\n",
        "  - Proporcione una explicación detallada de qué valores y distribuciones se probaron en el proceso y por qué se hizo la escogencia. (3 puntos)"
      ],
      "metadata": {
        "id": "6ALEzd6dNIaU"
      }
    },
    {
      "cell_type": "markdown",
      "source": [
        "![dist](https://github.com/sebaszx/Tarea2CienciasDeLosDatosModulo3/blob/main/Distribuciones.png?raw=true)"
      ],
      "metadata": {
        "id": "eQSwuaRDQdMh"
      }
    },
    {
      "cell_type": "code",
      "source": [
        "carat=df[\"carat\"]\n",
        "depth=df[\"depth\"]\n",
        "price=df[\"price\"]\n",
        "x_column=df[\"x\"]\n",
        "unknown= df['unknownCol']"
      ],
      "metadata": {
        "id": "PMqXmcYKOYqq"
      },
      "execution_count": 122,
      "outputs": []
    },
    {
      "cell_type": "markdown",
      "source": [
        "##Carat"
      ],
      "metadata": {
        "id": "i-_MfS0HM29v"
      }
    },
    {
      "cell_type": "code",
      "source": [
        "def ShowHistogram(Data,bins,Log):\n",
        "  plt.hist(Data, bins, log=Log,density=True)\n",
        "  \n"
      ],
      "metadata": {
        "id": "YekQmYBeOYlo"
      },
      "execution_count": 123,
      "outputs": []
    },
    {
      "cell_type": "code",
      "source": [
        "hist=ShowHistogram(carat,10,False)\n"
      ],
      "metadata": {
        "colab": {
          "base_uri": "https://localhost:8080/",
          "height": 265
        },
        "id": "xUooyTT3Przl",
        "outputId": "88e38777-7c63-430c-903e-3eb2d0a1bb82"
      },
      "execution_count": 124,
      "outputs": [
        {
          "output_type": "display_data",
          "data": {
            "text/plain": [
              "<Figure size 432x288 with 1 Axes>"
            ],
            "image/png": "[encoded data removed]"
          },
          "metadata": {
            "needs_background": "light"
          }
        }
      ]
    },
    {
      "cell_type": "code",
      "source": [
        "def Exponential(lambdaVal):\n",
        "  lambdaValue = lambdaVal\n",
        "  exponencial1 = expon(scale=1/lambdaValue)\n",
        "\n",
        "  x1= np.arange(0.2,3,.01)\n",
        "  fp1 = exponencial1.pdf(x1) # Función de Probabilidad\n",
        "  return x1,fp1\n",
        "\n",
        "ShowHistogram(carat,20,False)\n",
        "x,fp=Exponential(2)\n",
        "plt.plot(x, fp, color=\"red\", label=\"lambda=2\")"
      ],
      "metadata": {
        "colab": {
          "base_uri": "https://localhost:8080/",
          "height": 283
        },
        "id": "9zHVKJqoVce0",
        "outputId": "dafc835e-5255-4373-8e12-86bd67c2027c"
      },
      "execution_count": 125,
      "outputs": [
        {
          "output_type": "execute_result",
          "data": {
            "text/plain": [
              "[<matplotlib.lines.Line2D at 0x7fd533004250>]"
            ]
          },
          "metadata": {},
          "execution_count": 125
        },
        {
          "output_type": "display_data",
          "data": {
            "text/plain": [
              "<Figure size 432x288 with 1 Axes>"
            ],
            "image/png": "[encoded data removed]"
          },
          "metadata": {
            "needs_background": "light"
          }
        }
      ]
    },
    {
      "cell_type": "markdown",
      "source": [
        "Se utilizo la distribución Exponencial ya que el histograma parece tener la misma tendencia que esta distribución y además que el peso se considera una VA continua. El parametro $\\lambda$ que utilicé es 2\n"
      ],
      "metadata": {
        "id": "XwERb3zKK91v"
      }
    },
    {
      "cell_type": "markdown",
      "source": [
        "\n",
        "\n",
        "#2.\n",
        " Seleccione 3 columnas adicionales (también cuantitativas) y realize el mismo proceso del punto 2 (45 puntos)\n",
        " - Histograma (2 puntos)\n",
        " - Parámetros y gráfica (10 puntos)\n",
        " - Justificación (3 puntos)"
      ],
      "metadata": {
        "id": "qT7oxT_iMTK9"
      }
    },
    {
      "cell_type": "markdown",
      "source": [
        "##Depth"
      ],
      "metadata": {
        "id": "aipQ3KxmMx_w"
      }
    },
    {
      "cell_type": "code",
      "source": [
        "depth.head()"
      ],
      "metadata": {
        "colab": {
          "base_uri": "https://localhost:8080/"
        },
        "id": "dW6OF7LDN3gy",
        "outputId": "bda0766b-eab0-429f-c795-b43e1c3cc209"
      },
      "execution_count": 141,
      "outputs": [
        {
          "output_type": "execute_result",
          "data": {
            "text/plain": [
              "0    61.9\n",
              "1    62.9\n",
              "2    61.7\n",
              "3    62.1\n",
              "4    60.6\n",
              "Name: depth, dtype: float64"
            ]
          },
          "metadata": {},
          "execution_count": 141
        }
      ]
    },
    {
      "cell_type": "code",
      "source": [
        "ShowHistogram(depth,50,False)"
      ],
      "metadata": {
        "colab": {
          "base_uri": "https://localhost:8080/",
          "height": 265
        },
        "id": "WpxNjBjiMY9f",
        "outputId": "8d3e5928-1b59-46ae-bba5-a46afab14db9"
      },
      "execution_count": 127,
      "outputs": [
        {
          "output_type": "display_data",
          "data": {
            "text/plain": [
              "<Figure size 432x288 with 1 Axes>"
            ],
            "image/png": "[encoded data removed]"
          },
          "metadata": {
            "needs_background": "light"
          }
        }
      ]
    },
    {
      "cell_type": "code",
      "source": [
        "def normal(mu,sigma):\n",
        "  x = np.linspace(55, 70)\n",
        "  fp=norm.pdf(x, mu, sigma)\n",
        "  return x,fp\n",
        "  \n",
        "x,fp=normal(62,1)\n",
        "plt.plot(x,fp,color=\"red\")\n",
        "ShowHistogram(depth,40,False)\n",
        "plt.show()"
      ],
      "metadata": {
        "colab": {
          "base_uri": "https://localhost:8080/",
          "height": 265
        },
        "id": "jxcpRKbeMrLw",
        "outputId": "e8f46dea-9650-4fc0-b03e-195cf09aaf7d"
      },
      "execution_count": 128,
      "outputs": [
        {
          "output_type": "display_data",
          "data": {
            "text/plain": [
              "<Figure size 432x288 with 1 Axes>"
            ],
            "image/png": "[encoded data removed]"
          },
          "metadata": {
            "needs_background": "light"
          }
        }
      ]
    },
    {
      "cell_type": "markdown",
      "source": [
        "Para la columna \"depth\" se decidió modelarla con una función de distribución normal. Podemos ver que la media está entre 60 y 64, por eso mismo se escogió $\\mu$ =62 y con $\\sigma$ = 1"
      ],
      "metadata": {
        "id": "J023IiqPO6tR"
      }
    },
    {
      "cell_type": "markdown",
      "source": [
        "##Price"
      ],
      "metadata": {
        "id": "SyiFuPRrQEYQ"
      }
    },
    {
      "cell_type": "code",
      "source": [
        "ShowHistogram(price,150,False)"
      ],
      "metadata": {
        "colab": {
          "base_uri": "https://localhost:8080/",
          "height": 265
        },
        "id": "m3P2JBSZQFqS",
        "outputId": "a3adca46-48be-44b9-9004-00cc0e756891"
      },
      "execution_count": 129,
      "outputs": [
        {
          "output_type": "display_data",
          "data": {
            "text/plain": [
              "<Figure size 432x288 with 1 Axes>"
            ],
            "image/png": "[encoded data removed]"
          },
          "metadata": {
            "needs_background": "light"
          }
        }
      ]
    },
    {
      "cell_type": "code",
      "source": [
        "def geometric(prob):\n",
        "  p = prob\n",
        "  x = np.arange(250,17500)\n",
        "  fp=geom.pmf(x, p)\n",
        "  return x,fp\n",
        "\n",
        "  \n",
        "x,fp=geometric(0.001)\n",
        "\n",
        "plt.plot(x,fp, label='geom pmf',color=\"red\")\n",
        "ShowHistogram(price,150,False)\n",
        "\n",
        "plt.show()\n",
        "#plt.vlines(x, 0, geom.pmf(x, p), colors='b', lw=5, alpha=0.5)"
      ],
      "metadata": {
        "colab": {
          "base_uri": "https://localhost:8080/",
          "height": 265
        },
        "id": "oo5aj7-vQUrw",
        "outputId": "ead3c7a9-7ad8-470d-ed86-cdab6a4e10f9"
      },
      "execution_count": 130,
      "outputs": [
        {
          "output_type": "display_data",
          "data": {
            "text/plain": [
              "<Figure size 432x288 with 1 Axes>"
            ],
            "image/png": "[encoded data removed]"
          },
          "metadata": {
            "needs_background": "light"
          }
        }
      ]
    },
    {
      "cell_type": "markdown",
      "source": [
        "Se utilizo la distribución Geométrica ya que el histograma parece tener la misma tendencia que esta distribución y además que el precio se considera una VA discreta. El parametro p utilizado para acercarnos lo más posible a esta distribución fue de 0.001\n",
        "\n"
      ],
      "metadata": {
        "id": "C22s777qRgwr"
      }
    },
    {
      "cell_type": "markdown",
      "source": [
        "##X"
      ],
      "metadata": {
        "id": "LLEcTW7WWiJl"
      }
    },
    {
      "cell_type": "code",
      "source": [
        "ShowHistogram(x_column,12,False)"
      ],
      "metadata": {
        "colab": {
          "base_uri": "https://localhost:8080/",
          "height": 265
        },
        "id": "pPk_8oqMWkQW",
        "outputId": "2a0f4094-c60a-4e3b-903d-19a8bcccfb77"
      },
      "execution_count": 131,
      "outputs": [
        {
          "output_type": "display_data",
          "data": {
            "text/plain": [
              "<Figure size 432x288 with 1 Axes>"
            ],
            "image/png": "[encoded data removed]"
          },
          "metadata": {
            "needs_background": "light"
          }
        }
      ]
    },
    {
      "cell_type": "code",
      "source": [
        "def gammadist(a):  \n",
        "  a = a\n",
        "  mean, var, skew, kurt = gamma.stats(a, moments='mvsk')\n",
        "  x = np.linspace(4,8.5)\n",
        "  fp=gamma.pdf(x, a)\n",
        "  return x,fp\n",
        "x,fp=gammadist(6)\n",
        "plt.plot(x, fp,\n",
        "       'r-', lw=5, alpha=0.6, label='gamma pdf')\n",
        "ShowHistogram(x_column,12,False)\n",
        "plt.show()"
      ],
      "metadata": {
        "colab": {
          "base_uri": "https://localhost:8080/",
          "height": 265
        },
        "id": "WES13zJ78mF0",
        "outputId": "a6fa4619-9e84-4829-d05b-28abc639c1a9"
      },
      "execution_count": 132,
      "outputs": [
        {
          "output_type": "display_data",
          "data": {
            "text/plain": [
              "<Figure size 432x288 with 1 Axes>"
            ],
            "image/png": "[encoded data removed]"
          },
          "metadata": {
            "needs_background": "light"
          }
        }
      ]
    },
    {
      "cell_type": "markdown",
      "source": [
        "En este caso como X es una variable continua se decidió usar la distribución gamma. La distribución gamma tiene la forma más aglomerada hacia la izquierda, mientras que a la derecha hay menos datos\n",
        "se utilizó a=6"
      ],
      "metadata": {
        "id": "GlRTtCJUvWN-"
      }
    },
    {
      "cell_type": "markdown",
      "source": [
        "#3. \n",
        "Para cada columna aplicar una prueba KS  con un $\\alpha=0.05$ para determinar si la muestra en efecto sigue la misma distribución que los estudiantes plantean. Si bien es cierto en clase se abordó la prueba KS para pruebas de normalidad, estas también se pueden utilizar para cualquier otro tipo de distribución\n",
        " - 4 columnas x 10 puntos cada una (40 puntos)\n",
        " - Debe mostrarse suficiente detalle gráfico y aritmético en su respuesta"
      ],
      "metadata": {
        "id": "SuDZqL_VwRnR"
      }
    },
    {
      "cell_type": "markdown",
      "source": [
        "El valor $D$ obtenido es probado con una confianza de $1-\\alpha = 0.95$, entonces utilizando la tabla de la distribución Kolgomorov.Si $D$ es mayor que el valor crítico, \n",
        "**la hipótesis nula $H_0$ se rechaza**, de lo contrario se acepta (se supone como cierta).\n",
        "\n",
        "El valor critico para esta prueba es de $0.0951$ que calculamos de la siguiente manera\n",
        "$\\frac{1.35810}{\\sqrt{200}}$\n"
      ],
      "metadata": {
        "id": "AxCsPUZQetBT"
      }
    },
    {
      "cell_type": "code",
      "source": [
        "def hist(data):\n",
        "  dic={}\n",
        "  #print(data)\n",
        "  for value in data:\n",
        "    #print(value)\n",
        "    value=round(value, 2)\n",
        "    if value not in dic:\n",
        "        dic[value] = 1\n",
        "    else:\n",
        "        dic[value] += 1\n",
        "  return dic.keys(),dic.values()\n",
        "#keys,values=hist(carat)\n",
        "\n",
        "\n",
        "def ks(datos,dist):\n",
        "  val,ocurrences=np.unique(datos,return_counts=True)\n",
        "  \n",
        "  #Ocurrences\n",
        "  histogram = torch.tensor(ocurrences)\n",
        "  #values\n",
        "  histogramX = torch.tensor(val)\n",
        "\n",
        "  #number of observations\n",
        "  n = histogram.sum()\n",
        "  histogramNorm = histogram / n        #Norm factor for mean\n",
        "  #print(histogramX * histogramNorm)\n",
        "  histogramNorm2 = histogram / (n - 1) #Norm factor for std\n",
        "  meanHist = (histogramX * histogramNorm).sum()\n",
        "  stdHist = torch.sqrt((histogramNorm2 * (histogramX - meanHist) ** 2).sum())\n",
        "  #calculate cumulative sum\n",
        "  cdfEmpirical = torch.cumsum(histogramNorm, dim = 0)\n",
        "  \n",
        "  if dist=='Normal':\n",
        "    # Density = Normal(meanHist, stdHist)\n",
        "    # sorted, indices = torch.sort(histogramX)\n",
        "    # cdfNormalIdeal = Density.cdf(sorted) #points used to evaluate cdf\n",
        "    cdfNormalIdeal=torch.from_numpy(np.sort(norm.cdf(histogramX,loc=meanHist,scale=stdHist)))\n",
        "  elif dist=='Geometric':\n",
        "    cdfNormalIdeal=torch.from_numpy(np.sort(geom.cdf(histogramX,p=0.001)))\n",
        "  elif dist=='Exponential':\n",
        "    cdfNormalIdeal=torch.from_numpy(np.sort(expon.cdf(histogramX,scale=1/2)))\n",
        "  elif dist=='Gamma':\n",
        "    cdfNormalIdeal=torch.from_numpy(np.sort(gamma.cdf(histogramX,a=6)))\n",
        "\n",
        "  #Compare the empirical and ideal distributions\n",
        "  difference = torch.abs(cdfNormalIdeal - cdfEmpirical)\n",
        "  #print(difference)\n",
        "  dn = torch.max(difference)\n",
        "  plt.plot(cdfEmpirical, label='cdf Empirical', linewidth=2)\n",
        "  plt.plot(cdfNormalIdeal, label='cdf Dist Ideal', linewidth=2)\n",
        "  plt.legend(loc='best')\n",
        "  plt.show()\n",
        "  print(1.3581 / np.sqrt(n),'valor critico') #valor critico\n",
        "  return dn\n",
        "\n"
      ],
      "metadata": {
        "id": "oZXdJ9gA9tSj"
      },
      "execution_count": 139,
      "outputs": []
    },
    {
      "cell_type": "code",
      "source": [
        "\n",
        "dn_normal=ks(depth,'Normal')\n",
        "tablescore=ksone.ppf(0.975,200)\n",
        "print(dn_normal,tablescore)\n",
        "if dn_normal>tablescore:\n",
        "  print('Se rechaza')\n",
        "else:\n",
        "  print('Se acepta')"
      ],
      "metadata": {
        "colab": {
          "base_uri": "https://localhost:8080/",
          "height": 320
        },
        "id": "yppnV63rQcoi",
        "outputId": "922be176-6e53-45b9-b653-e4389572cdb8"
      },
      "execution_count": 140,
      "outputs": [
        {
          "output_type": "display_data",
          "data": {
            "text/plain": [
              "<Figure size 432x288 with 1 Axes>"
            ],
            "image/png": "[encoded data removed]"
          },
          "metadata": {
            "needs_background": "light"
          }
        },
        {
          "output_type": "stream",
          "name": "stdout",
          "text": [
            "tensor(0.10, dtype=torch.float64) valor critico\n",
            "tensor(0.06, dtype=torch.float64) 0.09515799837695846\n",
            "Se acepta\n"
          ]
        }
      ]
    },
    {
      "cell_type": "markdown",
      "source": [
        "Podemos verificar que $D > D_{n,\\alpha}$ que, para este caso, vemos que $0.06 > 0.0951$.\n",
        "Esto quiere decir que la hipótesis nula $H_0$ que plantea que el histograma  $\\vec{x}$ ha sido generado de una distribución normal, se  acepta."
      ],
      "metadata": {
        "id": "z5suYJYOejm4"
      }
    },
    {
      "cell_type": "code",
      "source": [
        "dn=ks(carat,'Exponential')\n",
        "tablescore=ksone.ppf(0.975,200)\n",
        "print(dn,tablescore)\n",
        "if dn>tablescore:\n",
        "  print('Se rechaza')\n",
        "else:\n",
        "  print('Se acepta')"
      ],
      "metadata": {
        "colab": {
          "base_uri": "https://localhost:8080/",
          "height": 320
        },
        "id": "u7KwLggAmNXz",
        "outputId": "9103ce5c-5ee1-4d6c-8ee0-00ce343a5be1"
      },
      "execution_count": 135,
      "outputs": [
        {
          "output_type": "display_data",
          "data": {
            "text/plain": [
              "<Figure size 432x288 with 1 Axes>"
            ],
            "image/png": "[encoded data removed]"
          },
          "metadata": {
            "needs_background": "light"
          }
        },
        {
          "output_type": "stream",
          "name": "stdout",
          "text": [
            "tensor(0.10, dtype=torch.float64) valor critico\n",
            "tensor(0.41, dtype=torch.float64) 0.09515799837695846\n",
            "Se rechaza\n"
          ]
        }
      ]
    },
    {
      "cell_type": "markdown",
      "source": [
        "Podemos verificar que $D > D_{n,\\alpha}$ que, para este caso, vemos que $0.41 > 0.0951$.\n",
        "Esto quiere decir que la hipótesis nula $H_0$ que plantea que el histograma  $\\vec{x}$ ha sido generado de una distribución Exponencial, se  rechaza."
      ],
      "metadata": {
        "id": "nfxjiA9vhDmX"
      }
    },
    {
      "cell_type": "code",
      "source": [
        "dn=ks(x_column,'Gamma')\n",
        "tablescore=ksone.ppf(0.975,200)\n",
        "print(dn,tablescore)\n",
        "if dn>tablescore:\n",
        "  print('Se rechaza')\n",
        "else:\n",
        "  print('Se acepta')"
      ],
      "metadata": {
        "colab": {
          "base_uri": "https://localhost:8080/",
          "height": 320
        },
        "id": "YGmXd0DTnHHW",
        "outputId": "07aa8df3-1d18-4dd7-8ac5-7494172daf50"
      },
      "execution_count": 136,
      "outputs": [
        {
          "output_type": "display_data",
          "data": {
            "text/plain": [
              "<Figure size 432x288 with 1 Axes>"
            ],
            "image/png": "[encoded data removed]"
          },
          "metadata": {
            "needs_background": "light"
          }
        },
        {
          "output_type": "stream",
          "name": "stdout",
          "text": [
            "tensor(0.10, dtype=torch.float64) valor critico\n",
            "tensor(0.23, dtype=torch.float64) 0.09515799837695846\n",
            "Se rechaza\n"
          ]
        }
      ]
    },
    {
      "cell_type": "markdown",
      "source": [
        "Podemos verificar que $D > D_{n,\\alpha}$ que, para este caso, vemos que $0.23 > 0.0951$.\n",
        "Esto quiere decir que la hipótesis nula $H_0$ que plantea que el histograma  $\\vec{x}$ ha sido generado de una distribución Gamma, se  rechaza."
      ],
      "metadata": {
        "id": "wJ9QbdeJhNSw"
      }
    },
    {
      "cell_type": "code",
      "source": [
        "dn=ks(price,'Geometric')\n",
        "tablescore=ksone.ppf(0.975,200)\n",
        "print(dn,tablescore)\n",
        "if dn>tablescore:\n",
        "  print('Se rechaza')\n",
        "else:\n",
        "  print('Se acepta')"
      ],
      "metadata": {
        "colab": {
          "base_uri": "https://localhost:8080/",
          "height": 320
        },
        "id": "JLMyXvMcoEQF",
        "outputId": "a9a84e7f-4ed8-44fd-b962-48a742d03f2f"
      },
      "execution_count": 137,
      "outputs": [
        {
          "output_type": "display_data",
          "data": {
            "text/plain": [
              "<Figure size 432x288 with 1 Axes>"
            ],
            "image/png": "[encoded data removed]"
          },
          "metadata": {
            "needs_background": "light"
          }
        },
        {
          "output_type": "stream",
          "name": "stdout",
          "text": [
            "tensor(0.10, dtype=torch.float64) valor critico\n",
            "tensor(0.42, dtype=torch.float64) 0.09515799837695846\n",
            "Se rechaza\n"
          ]
        }
      ]
    },
    {
      "cell_type": "markdown",
      "source": [
        "Podemos verificar que $D > D_{n,\\alpha}$ que, para este caso, vemos que $0.42 > 0.0951$.\n",
        "Esto quiere decir que la hipótesis nula $H_0$ que plantea que el histograma  $\\vec{x}$ ha sido generado de una distribución Geometrica, se  rechaza."
      ],
      "metadata": {
        "id": "vYDlgEOQhRKd"
      }
    },
    {
      "cell_type": "code",
      "source": [
        "# from scipy import stats\n",
        "# stats.kstest(depth, stats.norm.cdf)"
      ],
      "metadata": {
        "id": "RqPVvKomDykP"
      },
      "execution_count": 138,
      "outputs": []
    }
  ]
}